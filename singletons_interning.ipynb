{
 "cells": [
  {
   "cell_type": "code",
   "execution_count": 1,
   "id": "0f9a83cb",
   "metadata": {},
   "outputs": [
    {
     "name": "stdout",
     "output_type": "stream",
     "text": [
      "140726024646144\n",
      "2926914947504\n",
      "140726024166624\n"
     ]
    }
   ],
   "source": [
    "# 'id(object)' shows the memory address of the object\n",
    "print(id(100))\n",
    "print(id(\"hello\"))\n",
    "print(id(None))"
   ]
  },
  {
   "cell_type": "markdown",
   "id": "27939b8e",
   "metadata": {},
   "source": [
    "**'=='** operator: compares the values of both the operands and checks for value equality/content. \n",
    "\n",
    "**'is'** operator: checks whether both the operands refer to the same object or not (present in the same memory location)."
   ]
  },
  {
   "cell_type": "code",
   "execution_count": 2,
   "id": "b271c77e",
   "metadata": {},
   "outputs": [
    {
     "name": "stdout",
     "output_type": "stream",
     "text": [
      "a == b: True\n",
      "a is b: False\n"
     ]
    }
   ],
   "source": [
    "a = 1000\n",
    "b = 1000\n",
    "print('a == b:', a == b)\n",
    "print('a is b:', a is b)"
   ]
  },
  {
   "cell_type": "code",
   "execution_count": 3,
   "id": "a2bd71a9",
   "metadata": {},
   "outputs": [
    {
     "name": "stdout",
     "output_type": "stream",
     "text": [
      "Memory location of a: 2926914859952\n",
      "Memory location of b: 2926914859920\n"
     ]
    }
   ],
   "source": [
    "print('Memory location of a:', id(a))\n",
    "print('Memory location of b:', id(b))"
   ]
  },
  {
   "cell_type": "code",
   "execution_count": 4,
   "id": "87391cef",
   "metadata": {},
   "outputs": [
    {
     "name": "stdout",
     "output_type": "stream",
     "text": [
      "a == b: True\n",
      "a is b: True\n"
     ]
    }
   ],
   "source": [
    "a = 100\n",
    "b = 100\n",
    "print('a == b:', a == b)\n",
    "print('a is b:', a is b)"
   ]
  },
  {
   "cell_type": "code",
   "execution_count": 5,
   "id": "601b38ea",
   "metadata": {},
   "outputs": [
    {
     "name": "stdout",
     "output_type": "stream",
     "text": [
      "Memory location of a: 140726024646144\n",
      "Memory location of b: 140726024646144\n"
     ]
    }
   ],
   "source": [
    "print('Memory location of a:', id(a))\n",
    "print('Memory location of b:', id(b))"
   ]
  },
  {
   "cell_type": "markdown",
   "id": "6888340c",
   "metadata": {},
   "source": [
    "# Singletons and interning\n",
    " **Singleton objects** (e.g., True, False, None): \n",
    " exist only once and at one point in memory for the entire existence of your program. Every time a function returns a singletons object, it’s returning the very same object every time. We can check if two objects are made from a singleton by checking their memory address, i.e., using 'is' operator. For example, for two objects a and b, if 'a is b' is True, then a and b are same object and made from a singleton object.\n",
    " \n",
    " **Interning** : The process of making an object singleton.\n"
   ]
  },
  {
   "cell_type": "markdown",
   "id": "aff456a4",
   "metadata": {},
   "source": [
    "## Integers\n",
    "\n",
    "When Python initializes, it will instantiate and intern the integers between -5 and 256 (inclusive), and all of these integers will be a singleton object. \n",
    " \n",
    "But numbers outside of this range will be instantiated as new integer objects as needed, and will be separate objects with different memory addresses."
   ]
  },
  {
   "cell_type": "code",
   "execution_count": 6,
   "id": "0a41f3d7",
   "metadata": {},
   "outputs": [
    {
     "name": "stdout",
     "output_type": "stream",
     "text": [
      "a == b: True\n",
      "a is b: True\n"
     ]
    }
   ],
   "source": [
    "a = 256\n",
    "b = 256\n",
    "print('a == b:', a == b)\n",
    "print('a is b:', a is b)"
   ]
  },
  {
   "cell_type": "code",
   "execution_count": 7,
   "id": "b44a1708",
   "metadata": {},
   "outputs": [
    {
     "name": "stdout",
     "output_type": "stream",
     "text": [
      "a == b: True\n",
      "a is b: False\n"
     ]
    }
   ],
   "source": [
    "a = 257\n",
    "b = 257\n",
    "print('a == b:', a == b)\n",
    "print('a is b:', a is b)"
   ]
  },
  {
   "cell_type": "code",
   "execution_count": 8,
   "id": "4e1add6b",
   "metadata": {},
   "outputs": [
    {
     "name": "stdout",
     "output_type": "stream",
     "text": [
      "a == b: True\n",
      "a is b: False\n"
     ]
    }
   ],
   "source": [
    "a = -6\n",
    "b = -6\n",
    "print('a == b:', a == b)\n",
    "print('a is b:', a is b)"
   ]
  },
  {
   "cell_type": "code",
   "execution_count": 9,
   "id": "657e6aa9",
   "metadata": {},
   "outputs": [
    {
     "name": "stdout",
     "output_type": "stream",
     "text": [
      "a == b: True\n",
      "a is b: False\n"
     ]
    }
   ],
   "source": [
    "a, b = -6, -6\n",
    "print('a == b:', a == b)\n",
    "print('a is b:', a is b)"
   ]
  },
  {
   "cell_type": "markdown",
   "id": "60cfcb9a",
   "metadata": {},
   "source": [
    "## Floats\n",
    "\n",
    "Floats do not go through interning process. Each and every float is assigned to a different memory location."
   ]
  },
  {
   "cell_type": "code",
   "execution_count": 10,
   "id": "acb22fd1",
   "metadata": {},
   "outputs": [
    {
     "name": "stdout",
     "output_type": "stream",
     "text": [
      "a == b: True\n",
      "a is b: False\n"
     ]
    }
   ],
   "source": [
    "# Not True for float\n",
    "a = 1.1\n",
    "b = 1.1\n",
    "print('a == b:', a == b)\n",
    "print('a is b:', a is b)"
   ]
  },
  {
   "cell_type": "markdown",
   "id": "4ccdc90e",
   "metadata": {},
   "source": [
    "## Lists"
   ]
  },
  {
   "cell_type": "code",
   "execution_count": 11,
   "id": "b44698be",
   "metadata": {},
   "outputs": [
    {
     "name": "stdout",
     "output_type": "stream",
     "text": [
      "a == b: True\n",
      "a is b: False\n"
     ]
    }
   ],
   "source": [
    "# Two lists are two different objects\n",
    "a = [100]\n",
    "b = [100]\n",
    "print('a == b:', a == b)\n",
    "print('a is b:', a is b)"
   ]
  },
  {
   "cell_type": "code",
   "execution_count": 12,
   "id": "afde9e4c",
   "metadata": {},
   "outputs": [
    {
     "name": "stdout",
     "output_type": "stream",
     "text": [
      "a == b: True\n",
      "a is b: True\n"
     ]
    }
   ],
   "source": [
    "# assigning a variable by another variable point to the same object.\n",
    "a = [1, 2, 3]\n",
    "b = a\n",
    "print('a == b:', a == b)\n",
    "print('a is b:', a is b)"
   ]
  },
  {
   "cell_type": "code",
   "execution_count": 13,
   "id": "c41d63e3",
   "metadata": {},
   "outputs": [
    {
     "name": "stdout",
     "output_type": "stream",
     "text": [
      "a: [1, 2, 3, 4]\n",
      "b: [1, 2, 3, 4]\n",
      "a == b: True\n",
      "a is b: True\n"
     ]
    }
   ],
   "source": [
    "# They are same object, so any operation on one object will have the same impact on the other.\n",
    "a = [1, 2, 3]\n",
    "b = a\n",
    "b.append(4)\n",
    "print('a:', a)\n",
    "print('b:', b)\n",
    "print('a == b:', a == b)\n",
    "print('a is b:', a is b)"
   ]
  },
  {
   "cell_type": "code",
   "execution_count": 14,
   "id": "3e591ef2",
   "metadata": {},
   "outputs": [
    {
     "name": "stdout",
     "output_type": "stream",
     "text": [
      "a: [1, 2, 3]\n",
      "b: [1, 2, 3]\n",
      "a == b: True\n",
      "a is b: False\n"
     ]
    }
   ],
   "source": [
    "# To create a different object, use copy\n",
    "import copy\n",
    "a = [1, 2, 3]\n",
    "b = copy.copy(a)\n",
    "print('a:', a)\n",
    "print('b:', b)\n",
    "print('a == b:', a == b)\n",
    "print('a is b:', a is b)"
   ]
  },
  {
   "cell_type": "code",
   "execution_count": 15,
   "id": "ed21f5cc",
   "metadata": {},
   "outputs": [
    {
     "name": "stdout",
     "output_type": "stream",
     "text": [
      "a: [1, 2, 3]\n",
      "b: [1, 2, 3, 4]\n",
      "a == b: False\n",
      "a is b: False\n"
     ]
    }
   ],
   "source": [
    "b.append(4)\n",
    "print('a:', a)\n",
    "print('b:', b)\n",
    "print('a == b:', a == b)\n",
    "print('a is b:', a is b)"
   ]
  },
  {
   "cell_type": "markdown",
   "id": "27379588",
   "metadata": {},
   "source": [
    "## Strings\n",
    "\n",
    "The interning rules for strings are much more complex."
   ]
  },
  {
   "cell_type": "code",
   "execution_count": 16,
   "id": "6ca9c0d3",
   "metadata": {},
   "outputs": [
    {
     "name": "stdout",
     "output_type": "stream",
     "text": [
      "Length of a: 0\n",
      "Length of b: 0\n",
      "a == b: True\n",
      "a is b: True\n"
     ]
    }
   ],
   "source": [
    "# Empty/blank strings of length 0 and 1 are interned.\n",
    "a = \"\"\n",
    "b = \"\"\n",
    "\n",
    "print(\"Length of a:\", len(a))\n",
    "print(\"Length of b:\", len(b))\n",
    "\n",
    "print('a == b:', a == b)\n",
    "print('a is b:', a is b)"
   ]
  },
  {
   "cell_type": "code",
   "execution_count": 17,
   "id": "d62545d1",
   "metadata": {},
   "outputs": [
    {
     "name": "stdout",
     "output_type": "stream",
     "text": [
      "Length of a: 1\n",
      "Length of b: 1\n",
      "a == b: True\n",
      "a is b: True\n"
     ]
    }
   ],
   "source": [
    "# One space string is of length 1. It will be interned.\n",
    "a = \" \"\n",
    "b = \" \"\n",
    "\n",
    "print(\"Length of a:\", len(a))\n",
    "print(\"Length of b:\", len(b))\n",
    "\n",
    "print('a == b:', a == b)\n",
    "print('a is b:', a is b)"
   ]
  },
  {
   "cell_type": "code",
   "execution_count": 18,
   "id": "96acc06d",
   "metadata": {},
   "outputs": [
    {
     "name": "stdout",
     "output_type": "stream",
     "text": [
      "Length of a: 2\n",
      "Length of b: 2\n",
      "a == b: True\n",
      "a is b: False\n"
     ]
    }
   ],
   "source": [
    "# But two space string is of length 2. So it will not be interned.\n",
    "a = \"  \"\n",
    "b = \"  \"\n",
    "\n",
    "print(\"Length of a:\", len(a))\n",
    "print(\"Length of b:\", len(b))\n",
    "\n",
    "print('a == b:', a == b)\n",
    "print('a is b:', a is b)"
   ]
  },
  {
   "cell_type": "code",
   "execution_count": 19,
   "id": "85136951",
   "metadata": {},
   "outputs": [
    {
     "name": "stdout",
     "output_type": "stream",
     "text": [
      "a == b: True\n",
      "a is b: True\n"
     ]
    }
   ],
   "source": [
    "# String with only one word will be interned, as long as it looks like identifier (in snake_case format), \n",
    "# i.e., strings have ascii letters, digits or underscores.\n",
    "a = \"Hello_01\"\n",
    "b = \"Hello_01\"\n",
    "print('a == b:', a == b)\n",
    "print('a is b:', a is b)"
   ]
  },
  {
   "cell_type": "code",
   "execution_count": 20,
   "id": "01864010",
   "metadata": {},
   "outputs": [
    {
     "name": "stdout",
     "output_type": "stream",
     "text": [
      "a == b: True\n",
      "a is b: False\n"
     ]
    }
   ],
   "source": [
    "# # One word string with non-ascii letter (!)\n",
    "a = \"Hello!\"\n",
    "b = \"Hello!\"\n",
    "print('a == b:', a == b)\n",
    "print('a is b:', a is b)"
   ]
  },
  {
   "cell_type": "code",
   "execution_count": 21,
   "id": "7fa0b7e7",
   "metadata": {},
   "outputs": [
    {
     "name": "stdout",
     "output_type": "stream",
     "text": [
      "a == b: True\n",
      "a is b: False\n"
     ]
    }
   ],
   "source": [
    "# what about strings with length > 1\n",
    "a = \"Hello World\"\n",
    "b = \"Hello World\"\n",
    "print('a == b:', a == b)\n",
    "print('a is b:', a is b)"
   ]
  },
  {
   "cell_type": "code",
   "execution_count": 22,
   "id": "6059dcfe",
   "metadata": {},
   "outputs": [
    {
     "name": "stdout",
     "output_type": "stream",
     "text": [
      "a: Hello!\n",
      "b: Hello!\n",
      "a == b: True\n",
      "a is b: False\n"
     ]
    }
   ],
   "source": [
    "# Python intern strings with ascii letters, digits or underscores, \n",
    "# i.e. strings looking like identifiers.\n",
    "\n",
    "a = 'Hello!'\n",
    "b = 'Hello!'\n",
    "print('a:', a)\n",
    "print('b:', b)\n",
    "print('a == b:', a == b)\n",
    "print('a is b:', a is b)"
   ]
  },
  {
   "cell_type": "code",
   "execution_count": 23,
   "id": "937431b1",
   "metadata": {},
   "outputs": [
    {
     "name": "stdout",
     "output_type": "stream",
     "text": [
      "ÿ\n",
      "a == b: True\n",
      "a is b: True\n",
      "\n",
      "Ā\n",
      "c == d: True\n",
      "c is d: False\n"
     ]
    }
   ],
   "source": [
    "# unicode characters between 0 and  255 (inclusive) are interned.\n",
    "a = chr(255)\n",
    "b = chr(255)\n",
    "print(a)\n",
    "print('a == b:', a == b)\n",
    "print('a is b:', a is b)\n",
    "print()\n",
    "\n",
    "c = chr(256)\n",
    "d = chr(256)\n",
    "print(c)\n",
    "print('c == d:', c == d)\n",
    "print('c is d:', c is d)"
   ]
  },
  {
   "cell_type": "code",
   "execution_count": 24,
   "id": "a295bd40",
   "metadata": {},
   "outputs": [
    {
     "name": "stdout",
     "output_type": "stream",
     "text": [
      "a == b: True\n",
      "a is b: False\n"
     ]
    }
   ],
   "source": [
    "# Strings are interned at compile time, not runtime.\n",
    "# String join is done at runtime\n",
    "\n",
    "a = ''.join(['H', 'e', 'l', 'l', 'o']) \n",
    "b = ''.join(['H', 'e', 'l', 'l', 'o'])\n",
    "print('a == b:', a == b)\n",
    "print('a is b:', a is b)"
   ]
  },
  {
   "cell_type": "code",
   "execution_count": 25,
   "id": "f74c1302",
   "metadata": {},
   "outputs": [
    {
     "name": "stdout",
     "output_type": "stream",
     "text": [
      "a == b: True\n",
      "a is b: True\n"
     ]
    }
   ],
   "source": [
    "# String concatenation is done at compile time\n",
    "\n",
    "a = 'Hello_' + 'World'\n",
    "b = 'Hello_World'\n",
    "print('a == b:', a == b)\n",
    "print('a is b:', a is b)"
   ]
  },
  {
   "cell_type": "code",
   "execution_count": 26,
   "id": "963d5b06",
   "metadata": {},
   "outputs": [
    {
     "name": "stdout",
     "output_type": "stream",
     "text": [
      "with '==': 0.03804940000000001\n",
      "with 'is': 0.03476440000000003\n"
     ]
    }
   ],
   "source": [
    "# Comparing strings is much faster with 'is' than '=='.\n",
    "import timeit\n",
    "print(\"with '==':\", timeit.timeit('a = \"Hello World\"; b = \"Hello World\"; a == b'))\n",
    "print(\"with 'is':\", timeit.timeit('a = \"Hello World\"; b = \"Hello World\"; a is b'))"
   ]
  },
  {
   "cell_type": "markdown",
   "id": "21a8f299",
   "metadata": {},
   "source": [
    "### Peephole optimization:\n",
    "\n",
    "Source code --> Bytecode --(OPTIMIZATION)--> Final Bytecode\n",
    "\n",
    "constant folding (process of recognizing and evaluating constant \n",
    "expressions at compile time rather than computing them at runtime.)\n",
    "\n",
    "x = 2 * 4 * 3\n",
    "Compiler identify and evaluate such constant expressions and \n",
    "substitute the computed values (x = 24) at compile time "
   ]
  },
  {
   "cell_type": "code",
   "execution_count": 27,
   "id": "7c2001fd",
   "metadata": {},
   "outputs": [
    {
     "name": "stdout",
     "output_type": "stream",
     "text": [
      "a == b: True\n",
      "a is b: True\n"
     ]
    }
   ],
   "source": [
    "a = 'a' * 20\n",
    "b = 'aaaaaaaaaaaaaaaaaaaa'\n",
    "print('a == b:', a == b)\n",
    "print('a is b:', a is b)"
   ]
  },
  {
   "cell_type": "code",
   "execution_count": 28,
   "id": "248ed974",
   "metadata": {},
   "outputs": [
    {
     "name": "stdout",
     "output_type": "stream",
     "text": [
      "a == b: True\n",
      "a is b: True\n"
     ]
    }
   ],
   "source": [
    "# String of length ≤ 4096 and tuple of length ≤ 256 gets peephole optimized (from Python 3.7)\n",
    "\n",
    "a = 'a' * 4096  # 2**12 = 4096\n",
    "b = 'a' * 4096\n",
    "print('a == b:', a == b)\n",
    "print('a is b:', a is b)"
   ]
  },
  {
   "cell_type": "code",
   "execution_count": 29,
   "id": "59adcb98",
   "metadata": {},
   "outputs": [
    {
     "name": "stdout",
     "output_type": "stream",
     "text": [
      "a == b: True\n",
      "a is b: False\n"
     ]
    }
   ],
   "source": [
    "# Python bytecode is stored in .pyc files.\n",
    "# String of length > 4096 do not optimize to avoid generating huge .pyc file\n",
    "# python <=3.7, the length restriction was 20!\n",
    "\n",
    "a = 'a' * 4097\n",
    "b = 'a' * 4097\n",
    "print('a == b:', a == b)\n",
    "print('a is b:', a is b)"
   ]
  },
  {
   "cell_type": "code",
   "execution_count": 30,
   "id": "f3c39380",
   "metadata": {},
   "outputs": [
    {
     "name": "stdout",
     "output_type": "stream",
     "text": [
      "a == b: True\n",
      "a is b: False\n"
     ]
    }
   ],
   "source": [
    "# converting strings to integers\n",
    "\n",
    "a = int('257')\n",
    "b = int('257')\n",
    "print('a == b:', a == b)\n",
    "print('a is b:', a is b)"
   ]
  },
  {
   "cell_type": "code",
   "execution_count": 31,
   "id": "bb75fd7f",
   "metadata": {},
   "outputs": [
    {
     "data": {
      "text/plain": [
       "True"
      ]
     },
     "execution_count": 31,
     "metadata": {},
     "output_type": "execute_result"
    }
   ],
   "source": [
    "# Names of functions, class, variables, arguments, etc. are implicitly interned.\n",
    "\n",
    "def func():\n",
    "    print('Hello')\n",
    "\n",
    "name = 'func'\n",
    "func.__name__ is name"
   ]
  },
  {
   "cell_type": "code",
   "execution_count": 32,
   "id": "f73e5a30",
   "metadata": {},
   "outputs": [],
   "source": [
    "# The keys of dictionaries used to hold module, class, or instance attributes are interned."
   ]
  },
  {
   "cell_type": "code",
   "execution_count": 33,
   "id": "d73b7e49",
   "metadata": {},
   "outputs": [
    {
     "name": "stdout",
     "output_type": "stream",
     "text": [
      "a: Hello World\n",
      "b: Hello World\n",
      "a == b: True\n",
      "a is b: True\n"
     ]
    }
   ],
   "source": [
    "# Force Interning\n",
    "# In NLP: interning stopwords will reduce memory\n",
    "from sys import intern\n",
    "a = intern('Hello World')\n",
    "b = intern('Hello World')\n",
    "print('a:', a)\n",
    "print('b:', b)\n",
    "print('a == b:', a == b)\n",
    "print('a is b:', a is b)"
   ]
  }
 ],
 "metadata": {
  "kernelspec": {
   "display_name": "Python 3",
   "language": "python",
   "name": "python3"
  },
  "language_info": {
   "codemirror_mode": {
    "name": "ipython",
    "version": 3
   },
   "file_extension": ".py",
   "mimetype": "text/x-python",
   "name": "python",
   "nbconvert_exporter": "python",
   "pygments_lexer": "ipython3",
   "version": "3.7.10"
  }
 },
 "nbformat": 4,
 "nbformat_minor": 5
}
